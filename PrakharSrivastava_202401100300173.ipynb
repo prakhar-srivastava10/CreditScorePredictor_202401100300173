{
  "nbformat": 4,
  "nbformat_minor": 0,
  "metadata": {
    "colab": {
      "provenance": []
    },
    "kernelspec": {
      "name": "python3",
      "display_name": "Python 3"
    },
    "language_info": {
      "name": "python"
    }
  },
  "cells": [
    {
      "cell_type": "code",
      "source": [
        "import pandas as pd\n",
        "import numpy as np\n",
        "import matplotlib.pyplot as plt\n",
        "import seaborn as sns\n"
      ],
      "metadata": {
        "id": "edD-P3cMuOzN"
      },
      "execution_count": 59,
      "outputs": []
    },
    {
      "cell_type": "code",
      "source": [
        "# Load the dataset\n",
        "data = pd.read_csv('credit_data.csv')\n",
        "\n",
        "# Show the first few rows of the dataset\n",
        "data.head()\n"
      ],
      "metadata": {
        "id": "yE1o2HbxvSMx"
      },
      "execution_count": null,
      "outputs": []
    },
    {
      "cell_type": "code",
      "source": [
        "# Define a function for the rule-based predictor\n",
        "def credit_score_predictor(row):\n",
        "    # Rule based on income and loan amount\n",
        "    if row['Income'] > 50000 and row['LoanAmount'] < 20000:\n",
        "        return 'Good'\n",
        "    elif row['Income'] > 30000 and row['LoanAmount'] < 30000:\n",
        "        return 'Average'\n",
        "    else:\n",
        "        return 'Poor'\n"
      ],
      "metadata": {
        "id": "ADLYQxktvXuf"
      },
      "execution_count": 82,
      "outputs": []
    },
    {
      "cell_type": "code",
      "source": [
        "# Apply the rule-based predictor to the dataset\n",
        "data['PredictedCreditScore'] = data.apply(credit_score_predictor, axis=1)\n",
        "\n",
        "# Show the updated dataset with predictions\n",
        "data.head()\n"
      ],
      "metadata": {
        "id": "0jrLG7pjxTsn"
      },
      "execution_count": null,
      "outputs": []
    },
    {
      "cell_type": "code",
      "source": [
        "# Plot the distribution of predicted credit scores\n",
        "sns.countplot(x='PredictedCreditScore', data=data)\n",
        "plt.title('Distribution of Predicted Credit Scores')\n",
        "plt.xlabel('Predicted Credit Score')\n",
        "plt.ylabel('Count')\n",
        "plt.show()\n"
      ],
      "metadata": {
        "id": "WPcXmGo2xdos"
      },
      "execution_count": null,
      "outputs": []
    }
  ]
}